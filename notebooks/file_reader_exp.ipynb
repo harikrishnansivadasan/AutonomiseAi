{
 "cells": [
  {
   "cell_type": "code",
   "execution_count": 2,
   "id": "0946452e",
   "metadata": {},
   "outputs": [
    {
     "name": "stdout",
     "output_type": "stream",
     "text": [
      "Hello\n"
     ]
    }
   ],
   "source": [
    "print('Hello')"
   ]
  },
  {
   "cell_type": "code",
   "execution_count": 1,
   "id": "526bf619",
   "metadata": {},
   "outputs": [
    {
     "name": "stdout",
     "output_type": "stream",
     "text": [
      "c:\\Users\\Harikrishnan\\Desktop\\b\\AutonomiseAi\\autonomize\\Scripts\\python.exe\n"
     ]
    }
   ],
   "source": [
    "import sys\n",
    "\n",
    "print(sys.executable)"
   ]
  },
  {
   "cell_type": "code",
   "execution_count": 10,
   "id": "1887dcac",
   "metadata": {},
   "outputs": [],
   "source": [
    "import fitz"
   ]
  },
  {
   "cell_type": "code",
   "execution_count": 16,
   "id": "7efdc8b0",
   "metadata": {},
   "outputs": [],
   "source": [
    "# for pdf file\n",
    "\n",
    "doc = fitz.open(\n",
    "    r\"C:\\Users\\Harikrishnan\\Desktop\\b\\AutonomiseAi\\data\\unstructured\\Not_0022025_0172025.pdf\"\n",
    ")"
   ]
  },
  {
   "cell_type": "code",
   "execution_count": 15,
   "id": "abc70c80",
   "metadata": {},
   "outputs": [
    {
     "data": {
      "text/plain": [
       "\"quote the User-ID for further communication with the Commission. Application submitted is\\nprovisional and cannot be deleted or altered after submission. Candidates are advised to\\nkeep  a  printout  or  soft  copy  of  the  online  application  for  future  reference.\\nCandidates can take the print out of the application by clicking on the link `My\\napplications' in their profile.  All correspondence with the Commission, regarding\\nthe application should be accompanied with the print out of the application.  The\\napplication will be summarily rejected if non-compliance with the notification is found in\\ndue course of processing. Original Documents to prove qualification, experience, age,\\nCommunity etc. have to be produced as and when called for. The profile correction made by\\nthe candidates themselves or through the office of the KPSC on request after the last date\\nfixed for the receipt of applications will not be reflected in the application. Such corrections\\nwill come into effect only on the date on which corrections have been made.\\n(b)\\n If Written/OMR/Online Test is conducted as part of this selection, candidates shall submit a\\nconfirmation for writing the examination through their One Time Registration profile.  Such\\ncandidates alone can generate and download the Admission Tickets prior to  15 days of the\\nTest.  The applications of candidates who do not submit confirmation within the stipulated\\nperiod, will be rejected absolutely.  The period regarding the submission of confirmation and\\nthe availability of Admission Tickets will be published in the Examination Calendar itself.\\nInformation in this regard will be given to the candidates in their profiles and in the mobile\\nphone number registered .\\n(c)\\n“Candidates who have AADHAR Card should add AADHAR as ID Proof in their profile.”\\n10.\\nSpecial Instructions to Candidates :-\\n(a)   In the case of difference in Caste/Community claimed in the application and that entered in\\nSSLC book, the candidate shall produce a Gazette Notification in this regard, along with\\nNon Creamy Layer Certificate/Community Certificate at the time of certificate verification.\\n(b)   Candidates are required to acquaint themselves with the instructions given in the notification\\nas Part II, General Conditions before submitting application for the post. Applications which\\nare not submitted in accordance with the terms and conditions laid down in the General\\nConditions are liable to be rejected. \\n(c)\\nAppropriate disciplinary action as per Rule 22 of the  Kerala Public Service Commission\\nRules of Procedure shall be initiated against those candidates who submit applications with\\nbogus claims of qualification regarding education, experience etc. and are liable to be\\ndisqualified for  being considered for a particular post or debarment from applying to the\\nCommission either permanently or for any period or the invalidation of their answer scripts\\nor products in a written/practical test or the initiation of criminal or other proceedings\\nagainst  them  or  their  removal  or  dismissal  from  office  or  the  ordering  of  any  other\\ndisciplinary action against them if they have already been appointed, or any one or more of\\nthe above\\n11. Last date for receipt of applications :- 04.06.2025  Wednesday up to 12 Midnight.\\n12. Website to which applications are to be submitted : www.keralapsc.gov.in  \\n (For details including Photo ,ID Card , etc. refer the General Conditions given in part I of the Gazette\\nNotification.)\\n                            \\n                                 \\n\""
      ]
     },
     "execution_count": 15,
     "metadata": {},
     "output_type": "execute_result"
    }
   ],
   "source": [
    "doc[1].get_text()"
   ]
  },
  {
   "cell_type": "code",
   "execution_count": 17,
   "id": "8bb420ad",
   "metadata": {},
   "outputs": [
    {
     "name": "stdout",
     "output_type": "stream",
     "text": [
      "Hi, I'm Harikrishnan S, and I'm an enthusiastic Data Scientist and AI/ML Engineer focused on building and deploying intelligent systems, not just algorithms. I confidently own the entire project lifecycle, from data collection , preparation and engineering robust features to ensuring predictive models and LLM applications , like those built with LangChain and Hugging Face, writing  scalable and production ready scripts. My go-to tools are Python, TensorFlow, and SQL, and I back it all up with serious MLOps muscle, leveraging Docker, CI/CD via GitHub Actions, and AWS to turn complex challenges in areas like healthcare , automation and more into real world business value.\n"
     ]
    }
   ],
   "source": [
    "# text, docx and .md files\n",
    "file_path = r\"C:\\Users\\Harikrishnan\\Desktop\\b\\AutonomiseAi\\data\\unstructured\\hari.txt\"\n",
    "\n",
    "with open(file_path, 'r', encoding='utf-8') as file:\n",
    "            data = file.read()\n",
    "            print( data )"
   ]
  },
  {
   "cell_type": "code",
   "execution_count": 18,
   "id": "02c33aa7",
   "metadata": {},
   "outputs": [
    {
     "name": "stderr",
     "output_type": "stream",
     "text": [
      "Using CPU. Note: This module is much faster with a GPU.\n",
      "Downloading detection model, please wait. This may take several minutes depending upon your network connection.\n"
     ]
    },
    {
     "name": "stdout",
     "output_type": "stream",
     "text": [
      "Progress: |██████████████████████████████████████████████████| 100.0% Complete"
     ]
    },
    {
     "name": "stderr",
     "output_type": "stream",
     "text": [
      "Downloading recognition model, please wait. This may take several minutes depending upon your network connection.\n"
     ]
    },
    {
     "name": "stdout",
     "output_type": "stream",
     "text": [
      "Progress: |██████████████████████████████████████████████████| 100.0% Complete"
     ]
    }
   ],
   "source": [
    "# for image file\n",
    "import easyocr\n",
    "reader = easyocr.Reader([\"en\"], gpu=False)\n",
    "\n",
    "def read_image(file_path):\n",
    "    result = reader.readtext(file_path, detail=0)\n",
    "    return \" \".join(result)\n",
    "\n"
   ]
  },
  {
   "cell_type": "code",
   "execution_count": 20,
   "id": "632f99ad",
   "metadata": {},
   "outputs": [
    {
     "name": "stderr",
     "output_type": "stream",
     "text": [
      "c:\\Users\\Harikrishnan\\Desktop\\b\\AutonomiseAi\\autonomize\\Lib\\site-packages\\torch\\utils\\data\\dataloader.py:668: UserWarning: 'pin_memory' argument is set as true but no accelerator is found, then device pinned memory won't be used.\n",
      "  warnings.warn(warn_msg)\n"
     ]
    }
   ],
   "source": [
    "path = r\"C:\\Users\\Harikrishnan\\Desktop\\b\\AutonomiseAi\\data\\unstructured\\Agentic-AI-The-Future-of-Intelligent-Autonomy (3).png\"\n",
    "data=read_image(path)"
   ]
  },
  {
   "cell_type": "code",
   "execution_count": 21,
   "id": "c45ef2bd",
   "metadata": {},
   "outputs": [
    {
     "data": {
      "text/plain": [
       "str"
      ]
     },
     "execution_count": 21,
     "metadata": {},
     "output_type": "execute_result"
    }
   ],
   "source": [
    "type(data)"
   ]
  },
  {
   "cell_type": "code",
   "execution_count": 23,
   "id": "88e1feaa",
   "metadata": {},
   "outputs": [
    {
     "data": {
      "text/plain": [
       "\"AGENTIC AI: A DOUBLe-EDGED SWORD Exploring the Balance of Power and Responsibility THE POWER OF ACENTIC AI QUESTIONS OF TRUST ETHICAL DECISION-MAKING SHAPING THE FUTURE Agentic Al showcases the A significant challenge lies There'$ a pressing need for Understanding Agentic Al is immense potential of AI in determining if we can frameworks to ensure AI vital as current generations technologies in truly trust Al agents with agents adhere to ethical influence its trajectory and transforming various critical decisions: guidelines and principles: utilization. sectors: 01 02 03 04\""
      ]
     },
     "execution_count": 23,
     "metadata": {},
     "output_type": "execute_result"
    }
   ],
   "source": [
    "data.strip()"
   ]
  },
  {
   "cell_type": "code",
   "execution_count": null,
   "id": "5911a4c8",
   "metadata": {},
   "outputs": [],
   "source": []
  }
 ],
 "metadata": {
  "kernelspec": {
   "display_name": "autonomize (3.12.3)",
   "language": "python",
   "name": "python3"
  },
  "language_info": {
   "codemirror_mode": {
    "name": "ipython",
    "version": 3
   },
   "file_extension": ".py",
   "mimetype": "text/x-python",
   "name": "python",
   "nbconvert_exporter": "python",
   "pygments_lexer": "ipython3",
   "version": "3.12.3"
  }
 },
 "nbformat": 4,
 "nbformat_minor": 5
}
